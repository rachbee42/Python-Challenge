{
 "cells": [
  {
   "cell_type": "code",
   "execution_count": 78,
   "metadata": {},
   "outputs": [],
   "source": []
  },
  {
   "cell_type": "code",
   "execution_count": 79,
   "metadata": {},
   "outputs": [
    {
     "name": "stdout",
     "output_type": "stream",
     "text": [
      "C:\\Users\\rsbri\\python-challenge\\PyPoll\n"
     ]
    }
   ],
   "source": []
  },
  {
   "cell_type": "code",
   "execution_count": 90,
   "metadata": {},
   "outputs": [],
   "source": []
  },
  {
   "cell_type": "code",
   "execution_count": 97,
   "metadata": {},
   "outputs": [
    {
     "name": "stdout",
     "output_type": "stream",
     "text": [
      "<_csv.reader object at 0x0000021376BD2F80>\n",
      "Headers: ['Ballot ID', 'County', 'Candidate']\n"
     ]
    },
    {
     "ename": "TypeError",
     "evalue": "'_csv.reader' object is not subscriptable",
     "output_type": "error",
     "traceback": [
      "\u001b[1;31m---------------------------------------------------------------------------\u001b[0m",
      "\u001b[1;31mTypeError\u001b[0m                                 Traceback (most recent call last)",
      "Cell \u001b[1;32mIn[97], line 16\u001b[0m\n\u001b[0;32m     13\u001b[0m     candidate_dict \u001b[38;5;241m=\u001b[39m {}\n\u001b[0;32m     15\u001b[0m \u001b[38;5;66;03m# Identify unique names of candidates\u001b[39;00m\n\u001b[1;32m---> 16\u001b[0m unique_candidate_name \u001b[38;5;241m=\u001b[39m \u001b[43mcsvreader\u001b[49m\u001b[43m[\u001b[49m\u001b[38;5;124;43m'\u001b[39;49m\u001b[38;5;124;43mCandidate\u001b[39;49m\u001b[38;5;124;43m'\u001b[39;49m\u001b[43m]\u001b[49m\u001b[38;5;241m.\u001b[39munique()\n\u001b[0;32m     17\u001b[0m \u001b[38;5;28mprint\u001b[39m(unique_candidate_name)\n",
      "\u001b[1;31mTypeError\u001b[0m: '_csv.reader' object is not subscriptable"
     ]
    }
   ],
   "source": []
  },
  {
   "cell_type": "code",
   "execution_count": null,
   "metadata": {},
   "outputs": [],
   "source": [
    "\n"
   ]
  },
  {
   "cell_type": "code",
   "execution_count": 75,
   "metadata": {},
   "outputs": [],
   "source": []
  },
  {
   "cell_type": "code",
   "execution_count": 76,
   "metadata": {},
   "outputs": [
    {
     "name": "stdout",
     "output_type": "stream",
     "text": [
      "Total Votes: 369711 \n",
      "Charles Casper Stockham: 0 \n",
      "Diana DeGette: 0 \n",
      "Raymon Anthony Doane: 0 \n",
      "Winner: 0 \n",
      "\n"
     ]
    }
   ],
   "source": [
    "# Display analysis\n",
    "to_rename = 0 #delete with correct variables once code solved\n",
    "\n",
    "print(\n",
    "        f\"Total Votes: {total_votes} \\n\"\n",
    "        f\"Charles Casper Stockham: {to_rename} \\n\"\n",
    "        f\"Diana DeGette: {to_rename} \\n\"\n",
    "        f\"Raymon Anthony Doane: {to_rename} \\n\"\n",
    "        f\"Winner: {to_rename} \\n\"\n",
    "        )"
   ]
  },
  {
   "cell_type": "code",
   "execution_count": 77,
   "metadata": {},
   "outputs": [],
   "source": [
    "# Write analysis to a text file\n",
    "with open(output_path, 'w') as textfile:\n",
    "    textfile.write(\n",
    "    \"Election Results \\n\" \n",
    "\"------------------ \\n\" \n",
    "    \"\\n\"\n",
    "    f\"Total Votes: {total_votes} \\n\"\n",
    "    \"\\n\"\n",
    "\"------------------ \\n\" \n",
    "    \"\\n\"\n",
    "    f\"Charles Casper Stockham: {to_rename} \\n\"\n",
    "    f\"Diana DeGette: {to_rename} \\n\"\n",
    "    f\"Raymon Anthony Doane: {to_rename}  \\n\"\n",
    "    \"\\n\"   \n",
    "\"------------------ \\n\" \n",
    "    \"\\n\"\n",
    "    f\"Winner: {to_rename}\"\n",
    "    \"\\n\"        \n",
    "\"------------------ \\n\" \n",
    "    \"\\n\"\n",
    "    ) "
   ]
  },
  {
   "cell_type": "code",
   "execution_count": null,
   "metadata": {},
   "outputs": [],
   "source": []
  },
  {
   "cell_type": "code",
   "execution_count": null,
   "metadata": {},
   "outputs": [],
   "source": []
  }
 ],
 "metadata": {
  "kernelspec": {
   "display_name": "Python 3 (ipykernel)",
   "language": "python",
   "name": "python3"
  },
  "language_info": {
   "codemirror_mode": {
    "name": "ipython",
    "version": 3
   },
   "file_extension": ".py",
   "mimetype": "text/x-python",
   "name": "python",
   "nbconvert_exporter": "python",
   "pygments_lexer": "ipython3",
   "version": "3.10.9"
  }
 },
 "nbformat": 4,
 "nbformat_minor": 2
}
